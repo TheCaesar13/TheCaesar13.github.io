{
 "cells": [
  {
   "cell_type": "code",
   "execution_count": 1,
   "metadata": {},
   "outputs": [
    {
     "name": "stdout",
     "output_type": "stream",
     "text": [
      "env: JUPYTER_CULL_IDLE_TIMEOUT=0\n"
     ]
    }
   ],
   "source": [
    "%set_env JUPYTER_CULL_IDLE_TIMEOUT=0\n",
    "import pandas as pd"
   ]
  },
  {
   "cell_type": "code",
   "execution_count": 2,
   "metadata": {},
   "outputs": [
    {
     "data": {
      "text/html": [
       "<div>\n",
       "<style scoped>\n",
       "    .dataframe tbody tr th:only-of-type {\n",
       "        vertical-align: middle;\n",
       "    }\n",
       "\n",
       "    .dataframe tbody tr th {\n",
       "        vertical-align: top;\n",
       "    }\n",
       "\n",
       "    .dataframe thead th {\n",
       "        text-align: right;\n",
       "    }\n",
       "</style>\n",
       "<table border=\"1\" class=\"dataframe\">\n",
       "  <thead>\n",
       "    <tr style=\"text-align: right;\">\n",
       "      <th></th>\n",
       "      <th>id</th>\n",
       "      <th>backers_count</th>\n",
       "      <th>blurb</th>\n",
       "      <th>currency</th>\n",
       "      <th>goal</th>\n",
       "      <th>launched_at</th>\n",
       "      <th>deadline</th>\n",
       "      <th>location.country</th>\n",
       "      <th>name</th>\n",
       "      <th>usd_pledged</th>\n",
       "      <th>...</th>\n",
       "      <th>days_to_deadline</th>\n",
       "      <th>goal_USD</th>\n",
       "      <th>category_name</th>\n",
       "      <th>category_slug</th>\n",
       "      <th>blurb_length</th>\n",
       "      <th>location_type</th>\n",
       "      <th>location_country</th>\n",
       "      <th>location_state</th>\n",
       "      <th>location_displayable_name</th>\n",
       "      <th>binary_state</th>\n",
       "    </tr>\n",
       "  </thead>\n",
       "  <tbody>\n",
       "    <tr>\n",
       "      <th>0</th>\n",
       "      <td>857125548</td>\n",
       "      <td>1</td>\n",
       "      <td>Exploring paint and its place in a digital world.</td>\n",
       "      <td>USD</td>\n",
       "      <td>2000.0</td>\n",
       "      <td>2015-03-19 22:34:57</td>\n",
       "      <td>2015-04-30 23:12:00</td>\n",
       "      <td>US</td>\n",
       "      <td>Remix</td>\n",
       "      <td>25.00000</td>\n",
       "      <td>...</td>\n",
       "      <td>42</td>\n",
       "      <td>2000.0000</td>\n",
       "      <td>Digital Art</td>\n",
       "      <td>art</td>\n",
       "      <td>9</td>\n",
       "      <td>Town</td>\n",
       "      <td>US</td>\n",
       "      <td>NY</td>\n",
       "      <td>New York, NY</td>\n",
       "      <td>failed</td>\n",
       "    </tr>\n",
       "    <tr>\n",
       "      <th>1</th>\n",
       "      <td>1038659700</td>\n",
       "      <td>2</td>\n",
       "      <td>Mike Fassio wants a side-by-side photo of me a...</td>\n",
       "      <td>USD</td>\n",
       "      <td>10.0</td>\n",
       "      <td>2014-07-17 01:55:07</td>\n",
       "      <td>2014-07-27 01:55:07</td>\n",
       "      <td>US</td>\n",
       "      <td>Photo of Grant and Hazel eating cake with bare...</td>\n",
       "      <td>6.00000</td>\n",
       "      <td>...</td>\n",
       "      <td>10</td>\n",
       "      <td>10.0000</td>\n",
       "      <td>Digital Art</td>\n",
       "      <td>art</td>\n",
       "      <td>21</td>\n",
       "      <td>Town</td>\n",
       "      <td>US</td>\n",
       "      <td>WA</td>\n",
       "      <td>Seattle, WA</td>\n",
       "      <td>failed</td>\n",
       "    </tr>\n",
       "    <tr>\n",
       "      <th>2</th>\n",
       "      <td>1238331911</td>\n",
       "      <td>0</td>\n",
       "      <td>I need your help to get a nice graphics tablet...</td>\n",
       "      <td>USD</td>\n",
       "      <td>900.0</td>\n",
       "      <td>2014-07-30 16:29:13</td>\n",
       "      <td>2014-08-29 16:29:13</td>\n",
       "      <td>US</td>\n",
       "      <td>Minecraft Digital Art/Animations</td>\n",
       "      <td>0.00000</td>\n",
       "      <td>...</td>\n",
       "      <td>30</td>\n",
       "      <td>900.0000</td>\n",
       "      <td>Digital Art</td>\n",
       "      <td>art</td>\n",
       "      <td>12</td>\n",
       "      <td>Town</td>\n",
       "      <td>US</td>\n",
       "      <td>VA</td>\n",
       "      <td>Moneta, VA</td>\n",
       "      <td>failed</td>\n",
       "    </tr>\n",
       "    <tr>\n",
       "      <th>3</th>\n",
       "      <td>189217262</td>\n",
       "      <td>0</td>\n",
       "      <td>I want to create a Nature Photograph Series of...</td>\n",
       "      <td>USD</td>\n",
       "      <td>900.0</td>\n",
       "      <td>2015-05-11 16:09:11</td>\n",
       "      <td>2015-05-31 16:09:11</td>\n",
       "      <td>US</td>\n",
       "      <td>Sacramento Nature Photograph Series</td>\n",
       "      <td>0.00000</td>\n",
       "      <td>...</td>\n",
       "      <td>20</td>\n",
       "      <td>900.0000</td>\n",
       "      <td>Digital Art</td>\n",
       "      <td>art</td>\n",
       "      <td>17</td>\n",
       "      <td>Town</td>\n",
       "      <td>US</td>\n",
       "      <td>CA</td>\n",
       "      <td>Sacramento, CA</td>\n",
       "      <td>failed</td>\n",
       "    </tr>\n",
       "    <tr>\n",
       "      <th>4</th>\n",
       "      <td>1260075071</td>\n",
       "      <td>1</td>\n",
       "      <td>I want to bring colour to the world in my own ...</td>\n",
       "      <td>GBP</td>\n",
       "      <td>15000.0</td>\n",
       "      <td>2015-02-06 21:52:02</td>\n",
       "      <td>2015-03-08 20:52:02</td>\n",
       "      <td>GB</td>\n",
       "      <td>North Africa art project - my dream</td>\n",
       "      <td>1.52011</td>\n",
       "      <td>...</td>\n",
       "      <td>30</td>\n",
       "      <td>22801.6545</td>\n",
       "      <td>Digital Art</td>\n",
       "      <td>art</td>\n",
       "      <td>26</td>\n",
       "      <td>County</td>\n",
       "      <td>GB</td>\n",
       "      <td>England</td>\n",
       "      <td>Essex, UK</td>\n",
       "      <td>failed</td>\n",
       "    </tr>\n",
       "  </tbody>\n",
       "</table>\n",
       "<p>5 rows × 29 columns</p>\n",
       "</div>"
      ],
      "text/plain": [
       "           id  backers_count  \\\n",
       "0   857125548              1   \n",
       "1  1038659700              2   \n",
       "2  1238331911              0   \n",
       "3   189217262              0   \n",
       "4  1260075071              1   \n",
       "\n",
       "                                               blurb currency     goal  \\\n",
       "0  Exploring paint and its place in a digital world.      USD   2000.0   \n",
       "1  Mike Fassio wants a side-by-side photo of me a...      USD     10.0   \n",
       "2  I need your help to get a nice graphics tablet...      USD    900.0   \n",
       "3  I want to create a Nature Photograph Series of...      USD    900.0   \n",
       "4  I want to bring colour to the world in my own ...      GBP  15000.0   \n",
       "\n",
       "           launched_at             deadline location.country  \\\n",
       "0  2015-03-19 22:34:57  2015-04-30 23:12:00               US   \n",
       "1  2014-07-17 01:55:07  2014-07-27 01:55:07               US   \n",
       "2  2014-07-30 16:29:13  2014-08-29 16:29:13               US   \n",
       "3  2015-05-11 16:09:11  2015-05-31 16:09:11               US   \n",
       "4  2015-02-06 21:52:02  2015-03-08 20:52:02               GB   \n",
       "\n",
       "                                                name  usd_pledged  ...  \\\n",
       "0                                              Remix     25.00000  ...   \n",
       "1  Photo of Grant and Hazel eating cake with bare...      6.00000  ...   \n",
       "2                   Minecraft Digital Art/Animations      0.00000  ...   \n",
       "3                Sacramento Nature Photograph Series      0.00000  ...   \n",
       "4                North Africa art project - my dream      1.52011  ...   \n",
       "\n",
       "  days_to_deadline    goal_USD  category_name  category_slug blurb_length  \\\n",
       "0               42   2000.0000    Digital Art            art            9   \n",
       "1               10     10.0000    Digital Art            art           21   \n",
       "2               30    900.0000    Digital Art            art           12   \n",
       "3               20    900.0000    Digital Art            art           17   \n",
       "4               30  22801.6545    Digital Art            art           26   \n",
       "\n",
       "   location_type  location_country  location_state  location_displayable_name  \\\n",
       "0           Town                US              NY               New York, NY   \n",
       "1           Town                US              WA                Seattle, WA   \n",
       "2           Town                US              VA                 Moneta, VA   \n",
       "3           Town                US              CA             Sacramento, CA   \n",
       "4         County                GB         England                  Essex, UK   \n",
       "\n",
       "   binary_state  \n",
       "0        failed  \n",
       "1        failed  \n",
       "2        failed  \n",
       "3        failed  \n",
       "4        failed  \n",
       "\n",
       "[5 rows x 29 columns]"
      ]
     },
     "execution_count": 2,
     "metadata": {},
     "output_type": "execute_result"
    }
   ],
   "source": [
    "k_data = pd.read_csv(\"kickstarter_new.csv\", index_col = 0)\n",
    "k_data.head(5)"
   ]
  },
  {
   "cell_type": "code",
   "execution_count": 3,
   "metadata": {},
   "outputs": [],
   "source": [
    "import numpy as np\n",
    "import matplotlib.pyplot as plt\n",
    "import seaborn as sns"
   ]
  },
  {
   "cell_type": "code",
   "execution_count": 4,
   "metadata": {},
   "outputs": [
    {
     "name": "stdout",
     "output_type": "stream",
     "text": [
      "<class 'pandas.core.frame.DataFrame'>\n",
      "Int64Index: 313192 entries, 0 to 768\n",
      "Data columns (total 29 columns):\n",
      "id                           313192 non-null int64\n",
      "backers_count                313192 non-null int64\n",
      "blurb                        313192 non-null object\n",
      "currency                     313192 non-null object\n",
      "goal                         313192 non-null float64\n",
      "launched_at                  313192 non-null object\n",
      "deadline                     313192 non-null object\n",
      "location.country             312113 non-null object\n",
      "name                         313192 non-null object\n",
      "usd_pledged                  313192 non-null float64\n",
      "slug                         313192 non-null object\n",
      "spotlight                    313192 non-null bool\n",
      "staff_pick                   313192 non-null bool\n",
      "static_usd_rate              313192 non-null float64\n",
      "state                        313192 non-null object\n",
      "year                         313192 non-null int64\n",
      "month                        313192 non-null int64\n",
      "day                          313192 non-null int64\n",
      "hour                         313192 non-null int64\n",
      "days_to_deadline             313192 non-null int64\n",
      "goal_USD                     313192 non-null float64\n",
      "category_name                313192 non-null object\n",
      "category_slug                313192 non-null object\n",
      "blurb_length                 313192 non-null int64\n",
      "location_type                313192 non-null object\n",
      "location_country             313192 non-null object\n",
      "location_state               313192 non-null object\n",
      "location_displayable_name    313192 non-null object\n",
      "binary_state                 313192 non-null object\n",
      "dtypes: bool(2), float64(4), int64(8), object(15)\n",
      "memory usage: 67.5+ MB\n"
     ]
    }
   ],
   "source": [
    "###########      CLEANING        #############\n",
    "k_data.drop_duplicates(subset = \"id\", keep=\"first\", inplace=True)\n",
    "#k_data.info()\n",
    "#k_data.drop_duplicates(subset = \"name\", keep=\"first\", inplace=True)\n",
    "k_data.drop_duplicates(subset = \"blurb\", keep=\"first\", inplace=True)\n",
    "k_data.info()"
   ]
  },
  {
   "cell_type": "markdown",
   "metadata": {},
   "source": [
    "#Check for negative goals"
   ]
  },
  {
   "cell_type": "code",
   "execution_count": 5,
   "metadata": {},
   "outputs": [
    {
     "data": {
      "text/plain": [
       "313192"
      ]
     },
     "execution_count": 5,
     "metadata": {},
     "output_type": "execute_result"
    }
   ],
   "source": [
    "neg_goal = np.where(k_data.goal_USD < 0, 0, 1)\n",
    "neg_goal.sum()"
   ]
  },
  {
   "cell_type": "code",
   "execution_count": 6,
   "metadata": {},
   "outputs": [
    {
     "data": {
      "text/plain": [
       "626384"
      ]
     },
     "execution_count": 6,
     "metadata": {},
     "output_type": "execute_result"
    }
   ],
   "source": [
    "#Check for projects starting in future or too long in the past\n",
    "fut_year = np.where(k_data.year > 2019, 0, 1)\n",
    "past_year = np.where(k_data.year < 2000, 0, 1)\n",
    "fut_year.sum() + past_year.sum()"
   ]
  },
  {
   "cell_type": "code",
   "execution_count": 7,
   "metadata": {},
   "outputs": [
    {
     "data": {
      "text/plain": [
       "626384"
      ]
     },
     "execution_count": 7,
     "metadata": {},
     "output_type": "execute_result"
    }
   ],
   "source": [
    "#Check if month in range\n",
    "more_month = np.where(k_data.month > 12, 0, 1)\n",
    "less_month = np.where(k_data.month < 1, 0, 1)\n",
    "more_month.sum() + less_month.sum()"
   ]
  },
  {
   "cell_type": "code",
   "execution_count": 8,
   "metadata": {},
   "outputs": [
    {
     "data": {
      "text/plain": [
       "626384"
      ]
     },
     "execution_count": 8,
     "metadata": {},
     "output_type": "execute_result"
    }
   ],
   "source": [
    "#Check if day in range\n",
    "more_day = np.where(k_data.day > 31, 0, 1)\n",
    "less_day = np.where(k_data.day < 1, 0, 1)\n",
    "more_day.sum() + less_day.sum()"
   ]
  },
  {
   "cell_type": "code",
   "execution_count": 9,
   "metadata": {},
   "outputs": [
    {
     "data": {
      "text/plain": [
       "626384"
      ]
     },
     "execution_count": 9,
     "metadata": {},
     "output_type": "execute_result"
    }
   ],
   "source": [
    "#Check if duration negative or too long\n",
    "more_days_to_deadline = np.where(k_data.days_to_deadline > 365, 0, 1)\n",
    "less_days_to_deadline = np.where(k_data.days_to_deadline < 0, 0, 1)\n",
    "more_days_to_deadline.sum() + less_days_to_deadline.sum()"
   ]
  },
  {
   "cell_type": "code",
   "execution_count": 10,
   "metadata": {},
   "outputs": [
    {
     "name": "stdout",
     "output_type": "stream",
     "text": [
      "id                              0\n",
      "backers_count                   0\n",
      "blurb                           0\n",
      "currency                        0\n",
      "goal                            0\n",
      "launched_at                     0\n",
      "deadline                        0\n",
      "location.country             1079\n",
      "name                            0\n",
      "usd_pledged                     0\n",
      "slug                            0\n",
      "spotlight                       0\n",
      "staff_pick                      0\n",
      "static_usd_rate                 0\n",
      "state                           0\n",
      "year                            0\n",
      "month                           0\n",
      "day                             0\n",
      "hour                            0\n",
      "days_to_deadline                0\n",
      "goal_USD                        0\n",
      "category_name                   0\n",
      "category_slug                   0\n",
      "blurb_length                    0\n",
      "location_type                   0\n",
      "location_country                0\n",
      "location_state                  0\n",
      "location_displayable_name       0\n",
      "binary_state                    0\n",
      "dtype: int64\n"
     ]
    },
    {
     "data": {
      "text/plain": [
       "id                           0\n",
       "backers_count                0\n",
       "blurb                        0\n",
       "currency                     0\n",
       "goal                         0\n",
       "launched_at                  0\n",
       "deadline                     0\n",
       "name                         0\n",
       "usd_pledged                  0\n",
       "slug                         0\n",
       "spotlight                    0\n",
       "staff_pick                   0\n",
       "static_usd_rate              0\n",
       "state                        0\n",
       "year                         0\n",
       "month                        0\n",
       "day                          0\n",
       "hour                         0\n",
       "days_to_deadline             0\n",
       "goal_USD                     0\n",
       "category_name                0\n",
       "category_slug                0\n",
       "blurb_length                 0\n",
       "location_type                0\n",
       "location_country             0\n",
       "location_state               0\n",
       "location_displayable_name    0\n",
       "binary_state                 0\n",
       "dtype: int64"
      ]
     },
     "execution_count": 10,
     "metadata": {},
     "output_type": "execute_result"
    }
   ],
   "source": [
    "#Check for missing values\n",
    "print(k_data.isnull().sum())\n",
    "k_data.drop(\"location.country\", axis=1, inplace=True)\n",
    "k_data.isnull().sum()"
   ]
  },
  {
   "cell_type": "code",
   "execution_count": 11,
   "metadata": {},
   "outputs": [
    {
     "data": {
      "text/html": [
       "<div>\n",
       "<style scoped>\n",
       "    .dataframe tbody tr th:only-of-type {\n",
       "        vertical-align: middle;\n",
       "    }\n",
       "\n",
       "    .dataframe tbody tr th {\n",
       "        vertical-align: top;\n",
       "    }\n",
       "\n",
       "    .dataframe thead th {\n",
       "        text-align: right;\n",
       "    }\n",
       "</style>\n",
       "<table border=\"1\" class=\"dataframe\">\n",
       "  <thead>\n",
       "    <tr style=\"text-align: right;\">\n",
       "      <th></th>\n",
       "      <th>id</th>\n",
       "      <th>backers_count</th>\n",
       "      <th>currency</th>\n",
       "      <th>name</th>\n",
       "      <th>usd_pledged</th>\n",
       "      <th>staff_pick</th>\n",
       "      <th>year</th>\n",
       "      <th>month</th>\n",
       "      <th>day</th>\n",
       "      <th>hour</th>\n",
       "      <th>days_to_deadline</th>\n",
       "      <th>goal_USD</th>\n",
       "      <th>category_name</th>\n",
       "      <th>category_slug</th>\n",
       "      <th>blurb_length</th>\n",
       "      <th>location_type</th>\n",
       "      <th>location_country</th>\n",
       "      <th>location_state</th>\n",
       "      <th>binary_state</th>\n",
       "    </tr>\n",
       "  </thead>\n",
       "  <tbody>\n",
       "    <tr>\n",
       "      <th>0</th>\n",
       "      <td>857125548</td>\n",
       "      <td>1</td>\n",
       "      <td>USD</td>\n",
       "      <td>Remix</td>\n",
       "      <td>25.0</td>\n",
       "      <td>False</td>\n",
       "      <td>2015</td>\n",
       "      <td>3</td>\n",
       "      <td>19</td>\n",
       "      <td>0</td>\n",
       "      <td>42</td>\n",
       "      <td>2000.0</td>\n",
       "      <td>Digital Art</td>\n",
       "      <td>art</td>\n",
       "      <td>9</td>\n",
       "      <td>Town</td>\n",
       "      <td>US</td>\n",
       "      <td>NY</td>\n",
       "      <td>failed</td>\n",
       "    </tr>\n",
       "    <tr>\n",
       "      <th>1</th>\n",
       "      <td>1038659700</td>\n",
       "      <td>2</td>\n",
       "      <td>USD</td>\n",
       "      <td>Photo of Grant and Hazel eating cake with bare...</td>\n",
       "      <td>6.0</td>\n",
       "      <td>False</td>\n",
       "      <td>2014</td>\n",
       "      <td>7</td>\n",
       "      <td>17</td>\n",
       "      <td>0</td>\n",
       "      <td>10</td>\n",
       "      <td>10.0</td>\n",
       "      <td>Digital Art</td>\n",
       "      <td>art</td>\n",
       "      <td>21</td>\n",
       "      <td>Town</td>\n",
       "      <td>US</td>\n",
       "      <td>WA</td>\n",
       "      <td>failed</td>\n",
       "    </tr>\n",
       "  </tbody>\n",
       "</table>\n",
       "</div>"
      ],
      "text/plain": [
       "           id  backers_count currency  \\\n",
       "0   857125548              1      USD   \n",
       "1  1038659700              2      USD   \n",
       "\n",
       "                                                name  usd_pledged  staff_pick  \\\n",
       "0                                              Remix         25.0       False   \n",
       "1  Photo of Grant and Hazel eating cake with bare...          6.0       False   \n",
       "\n",
       "   year  month  day  hour  days_to_deadline  goal_USD category_name  \\\n",
       "0  2015      3   19     0                42    2000.0   Digital Art   \n",
       "1  2014      7   17     0                10      10.0   Digital Art   \n",
       "\n",
       "  category_slug  blurb_length location_type location_country location_state  \\\n",
       "0           art             9          Town               US             NY   \n",
       "1           art            21          Town               US             WA   \n",
       "\n",
       "  binary_state  \n",
       "0       failed  \n",
       "1       failed  "
      ]
     },
     "execution_count": 11,
     "metadata": {},
     "output_type": "execute_result"
    }
   ],
   "source": [
    "#Eliminated irrelevant features\n",
    "#k_data.drop(\"id\", axis=1, inplace=True)\n",
    "k_data.drop(\"goal\", axis=1, inplace=True)\n",
    "k_data.drop(\"blurb\", axis=1, inplace=True)\n",
    "k_data.drop(\"deadline\", axis=1, inplace=True)\n",
    "k_data.drop(\"state\", axis=1, inplace=True)\n",
    "k_data.drop(\"slug\", axis=1, inplace=True)\n",
    "k_data.drop(\"launched_at\", axis=1, inplace=True)\n",
    "k_data.drop(\"spotlight\", axis=1, inplace=True)\n",
    "k_data.drop(\"static_usd_rate\", axis=1, inplace=True)\n",
    "k_data.drop(\"location_displayable_name\", axis=1, inplace=True)\n",
    "k_data.head(2)"
   ]
  },
  {
   "cell_type": "code",
   "execution_count": 12,
   "metadata": {},
   "outputs": [
    {
     "name": "stdout",
     "output_type": "stream",
     "text": [
      "<class 'pandas.core.frame.DataFrame'>\n",
      "Int64Index: 313192 entries, 0 to 768\n",
      "Data columns (total 19 columns):\n",
      "id                  313192 non-null int64\n",
      "backers_count       313192 non-null int64\n",
      "currency            313192 non-null object\n",
      "name                313192 non-null object\n",
      "usd_pledged         313192 non-null float64\n",
      "staff_pick          313192 non-null bool\n",
      "year                313192 non-null int64\n",
      "month               313192 non-null int64\n",
      "day                 313192 non-null int64\n",
      "hour                313192 non-null int64\n",
      "days_to_deadline    313192 non-null int64\n",
      "goal_USD            313192 non-null float64\n",
      "category_name       313192 non-null object\n",
      "category_slug       313192 non-null object\n",
      "blurb_length        313192 non-null int64\n",
      "location_type       313192 non-null object\n",
      "location_country    313192 non-null object\n",
      "location_state      313192 non-null object\n",
      "binary_state        313192 non-null object\n",
      "dtypes: bool(1), float64(2), int64(8), object(8)\n",
      "memory usage: 45.7+ MB\n"
     ]
    }
   ],
   "source": [
    "k_data.info()"
   ]
  },
  {
   "cell_type": "code",
   "execution_count": 13,
   "metadata": {},
   "outputs": [
    {
     "data": {
      "text/plain": [
       "<matplotlib.axes._subplots.AxesSubplot at 0x7f88d5092710>"
      ]
     },
     "execution_count": 13,
     "metadata": {},
     "output_type": "execute_result"
    },
    {
     "data": {
      "image/png": "[encoded data removed]",
      "text/plain": [
       "<Figure size 432x288 with 1 Axes>"
      ]
     },
     "metadata": {
      "needs_background": "light"
     },
     "output_type": "display_data"
    }
   ],
   "source": [
    "#Check for outliers\n",
    "sns.boxplot(x=k_data['days_to_deadline'])"
   ]
  },
  {
   "cell_type": "code",
   "execution_count": 14,
   "metadata": {},
   "outputs": [
    {
     "data": {
      "text/plain": [
       "<matplotlib.axes._subplots.AxesSubplot at 0x7f88d4d605f8>"
      ]
     },
     "execution_count": 14,
     "metadata": {},
     "output_type": "execute_result"
    },
    {
     "data": {
      "image/png": "[encoded data removed]",
      "text/plain": [
       "<Figure size 432x288 with 1 Axes>"
      ]
     },
     "metadata": {
      "needs_background": "light"
     },
     "output_type": "display_data"
    }
   ],
   "source": [
    "sns.boxplot(x=k_data['usd_pledged'])"
   ]
  },
  {
   "cell_type": "code",
   "execution_count": 15,
   "metadata": {},
   "outputs": [
    {
     "data": {
      "text/plain": [
       "<matplotlib.axes._subplots.AxesSubplot at 0x7f88d4cc2208>"
      ]
     },
     "execution_count": 15,
     "metadata": {},
     "output_type": "execute_result"
    },
    {
     "data": {
      "image/png": "[encoded data removed]",
      "text/plain": [
       "<Figure size 432x288 with 1 Axes>"
      ]
     },
     "metadata": {
      "needs_background": "light"
     },
     "output_type": "display_data"
    }
   ],
   "source": [
    "sns.scatterplot(y=k_data['goal_USD'], x=k_data['backers_count'])"
   ]
  },
  {
   "cell_type": "markdown",
   "metadata": {},
   "source": [
    "#######      TRANSFORMATIONS         #########"
   ]
  },
  {
   "cell_type": "code",
   "execution_count": 16,
   "metadata": {},
   "outputs": [],
   "source": [
    "#Count words in the name\n",
    "name = np.array(k_data.name)\n",
    "named = 0\n",
    "name_list = [None] *len(name)\n",
    "nr_word_name = [None] *len(name)\n",
    "for index in range(len(name)):\n",
    "    name_list[index] = name[index].split()\n",
    "for index in range(len(name_list)):\n",
    "    for word in name_list[index]:\n",
    "        named += 1\n",
    "    nr_word_name[index]=named\n",
    "    named = 0\n",
    "k_data['name_length'] = nr_word_name\n",
    "k_data.drop(\"name\", axis=1, inplace=True)"
   ]
  },
  {
   "cell_type": "code",
   "execution_count": 17,
   "metadata": {},
   "outputs": [
    {
     "name": "stdout",
     "output_type": "stream",
     "text": [
      "<class 'pandas.core.frame.DataFrame'>\n",
      "Int64Index: 313192 entries, 0 to 768\n",
      "Data columns (total 19 columns):\n",
      "id                  313192 non-null int64\n",
      "backers_count       313192 non-null int64\n",
      "currency            313192 non-null object\n",
      "usd_pledged         313192 non-null float64\n",
      "staff_pick          313192 non-null bool\n",
      "year                313192 non-null int64\n",
      "month               313192 non-null int64\n",
      "day                 313192 non-null int64\n",
      "hour                313192 non-null int64\n",
      "days_to_deadline    313192 non-null int64\n",
      "goal_USD            313192 non-null float64\n",
      "category_name       313192 non-null object\n",
      "category_slug       313192 non-null object\n",
      "blurb_length        313192 non-null int64\n",
      "location_type       313192 non-null object\n",
      "location_country    313192 non-null object\n",
      "location_state      313192 non-null object\n",
      "binary_state        313192 non-null object\n",
      "name_length         313192 non-null int64\n",
      "dtypes: bool(1), float64(2), int64(9), object(7)\n",
      "memory usage: 45.7+ MB\n"
     ]
    }
   ],
   "source": [
    "k_data.describe()\n",
    "k_data.info()"
   ]
  },
  {
   "cell_type": "code",
   "execution_count": 18,
   "metadata": {},
   "outputs": [
    {
     "data": {
      "text/html": [
       "<div>\n",
       "<style scoped>\n",
       "    .dataframe tbody tr th:only-of-type {\n",
       "        vertical-align: middle;\n",
       "    }\n",
       "\n",
       "    .dataframe tbody tr th {\n",
       "        vertical-align: top;\n",
       "    }\n",
       "\n",
       "    .dataframe thead th {\n",
       "        text-align: right;\n",
       "    }\n",
       "</style>\n",
       "<table border=\"1\" class=\"dataframe\">\n",
       "  <thead>\n",
       "    <tr style=\"text-align: right;\">\n",
       "      <th></th>\n",
       "      <th>id</th>\n",
       "      <th>backers_count</th>\n",
       "      <th>currency</th>\n",
       "      <th>usd_pledged</th>\n",
       "      <th>staff_pick</th>\n",
       "      <th>year</th>\n",
       "      <th>month</th>\n",
       "      <th>day</th>\n",
       "      <th>hour</th>\n",
       "      <th>campaign_duration</th>\n",
       "      <th>goal_USD</th>\n",
       "      <th>subcategory</th>\n",
       "      <th>category</th>\n",
       "      <th>description_length</th>\n",
       "      <th>location_type</th>\n",
       "      <th>location_country</th>\n",
       "      <th>location_state</th>\n",
       "      <th>binary_state</th>\n",
       "      <th>name_length</th>\n",
       "    </tr>\n",
       "  </thead>\n",
       "  <tbody>\n",
       "    <tr>\n",
       "      <th>0</th>\n",
       "      <td>857125548</td>\n",
       "      <td>1</td>\n",
       "      <td>USD</td>\n",
       "      <td>25.0</td>\n",
       "      <td>False</td>\n",
       "      <td>2015</td>\n",
       "      <td>3</td>\n",
       "      <td>19</td>\n",
       "      <td>0</td>\n",
       "      <td>42</td>\n",
       "      <td>2000.0</td>\n",
       "      <td>Digital Art</td>\n",
       "      <td>art</td>\n",
       "      <td>9</td>\n",
       "      <td>Town</td>\n",
       "      <td>US</td>\n",
       "      <td>NY</td>\n",
       "      <td>failed</td>\n",
       "      <td>1</td>\n",
       "    </tr>\n",
       "    <tr>\n",
       "      <th>1</th>\n",
       "      <td>1038659700</td>\n",
       "      <td>2</td>\n",
       "      <td>USD</td>\n",
       "      <td>6.0</td>\n",
       "      <td>False</td>\n",
       "      <td>2014</td>\n",
       "      <td>7</td>\n",
       "      <td>17</td>\n",
       "      <td>0</td>\n",
       "      <td>10</td>\n",
       "      <td>10.0</td>\n",
       "      <td>Digital Art</td>\n",
       "      <td>art</td>\n",
       "      <td>21</td>\n",
       "      <td>Town</td>\n",
       "      <td>US</td>\n",
       "      <td>WA</td>\n",
       "      <td>failed</td>\n",
       "      <td>10</td>\n",
       "    </tr>\n",
       "    <tr>\n",
       "      <th>2</th>\n",
       "      <td>1238331911</td>\n",
       "      <td>0</td>\n",
       "      <td>USD</td>\n",
       "      <td>0.0</td>\n",
       "      <td>False</td>\n",
       "      <td>2014</td>\n",
       "      <td>7</td>\n",
       "      <td>30</td>\n",
       "      <td>0</td>\n",
       "      <td>30</td>\n",
       "      <td>900.0</td>\n",
       "      <td>Digital Art</td>\n",
       "      <td>art</td>\n",
       "      <td>12</td>\n",
       "      <td>Town</td>\n",
       "      <td>US</td>\n",
       "      <td>VA</td>\n",
       "      <td>failed</td>\n",
       "      <td>3</td>\n",
       "    </tr>\n",
       "  </tbody>\n",
       "</table>\n",
       "</div>"
      ],
      "text/plain": [
       "           id  backers_count currency  usd_pledged  staff_pick  year  month  \\\n",
       "0   857125548              1      USD         25.0       False  2015      3   \n",
       "1  1038659700              2      USD          6.0       False  2014      7   \n",
       "2  1238331911              0      USD          0.0       False  2014      7   \n",
       "\n",
       "   day  hour  campaign_duration  goal_USD  subcategory category  \\\n",
       "0   19     0                 42    2000.0  Digital Art      art   \n",
       "1   17     0                 10      10.0  Digital Art      art   \n",
       "2   30     0                 30     900.0  Digital Art      art   \n",
       "\n",
       "   description_length location_type location_country location_state  \\\n",
       "0                   9          Town               US             NY   \n",
       "1                  21          Town               US             WA   \n",
       "2                  12          Town               US             VA   \n",
       "\n",
       "  binary_state  name_length  \n",
       "0       failed            1  \n",
       "1       failed           10  \n",
       "2       failed            3  "
      ]
     },
     "execution_count": 18,
     "metadata": {},
     "output_type": "execute_result"
    }
   ],
   "source": [
    "#Rename columns\n",
    "k_data.rename(columns={'days_to_deadline': 'campaign_duration', 'category_name': 'subcategory',\n",
    "                       'category_slug': 'category', 'blurb_length': 'description_length'}, inplace=True)\n",
    "k_data.head(3)"
   ]
  },
  {
   "cell_type": "markdown",
   "metadata": {},
   "source": [
    "########  DATA EXPLORATION   ########"
   ]
  },
  {
   "cell_type": "code",
   "execution_count": 19,
   "metadata": {},
   "outputs": [
    {
     "data": {
      "text/html": [
       "<div>\n",
       "<style scoped>\n",
       "    .dataframe tbody tr th:only-of-type {\n",
       "        vertical-align: middle;\n",
       "    }\n",
       "\n",
       "    .dataframe tbody tr th {\n",
       "        vertical-align: top;\n",
       "    }\n",
       "\n",
       "    .dataframe thead th {\n",
       "        text-align: right;\n",
       "    }\n",
       "</style>\n",
       "<table border=\"1\" class=\"dataframe\">\n",
       "  <thead>\n",
       "    <tr style=\"text-align: right;\">\n",
       "      <th></th>\n",
       "      <th>id</th>\n",
       "      <th>backers_count</th>\n",
       "      <th>usd_pledged</th>\n",
       "      <th>year</th>\n",
       "      <th>month</th>\n",
       "      <th>day</th>\n",
       "      <th>hour</th>\n",
       "      <th>campaign_duration</th>\n",
       "      <th>goal_USD</th>\n",
       "      <th>description_length</th>\n",
       "      <th>name_length</th>\n",
       "    </tr>\n",
       "  </thead>\n",
       "  <tbody>\n",
       "    <tr>\n",
       "      <th>count</th>\n",
       "      <td>3.131920e+05</td>\n",
       "      <td>313192.000000</td>\n",
       "      <td>3.131920e+05</td>\n",
       "      <td>313192.000000</td>\n",
       "      <td>313192.000000</td>\n",
       "      <td>313192.000000</td>\n",
       "      <td>313192.0</td>\n",
       "      <td>313192.000000</td>\n",
       "      <td>3.131920e+05</td>\n",
       "      <td>313192.000000</td>\n",
       "      <td>313192.000000</td>\n",
       "    </tr>\n",
       "    <tr>\n",
       "      <th>mean</th>\n",
       "      <td>1.074186e+09</td>\n",
       "      <td>128.309123</td>\n",
       "      <td>1.092841e+04</td>\n",
       "      <td>2015.057786</td>\n",
       "      <td>6.294810</td>\n",
       "      <td>15.208090</td>\n",
       "      <td>0.0</td>\n",
       "      <td>33.736242</td>\n",
       "      <td>3.935532e+04</td>\n",
       "      <td>19.032201</td>\n",
       "      <td>5.756226</td>\n",
       "    </tr>\n",
       "    <tr>\n",
       "      <th>std</th>\n",
       "      <td>6.193455e+08</td>\n",
       "      <td>972.342455</td>\n",
       "      <td>9.792958e+04</td>\n",
       "      <td>2.262361</td>\n",
       "      <td>3.358188</td>\n",
       "      <td>8.843429</td>\n",
       "      <td>0.0</td>\n",
       "      <td>12.389012</td>\n",
       "      <td>1.021775e+06</td>\n",
       "      <td>5.050245</td>\n",
       "      <td>2.749569</td>\n",
       "    </tr>\n",
       "    <tr>\n",
       "      <th>min</th>\n",
       "      <td>8.624000e+03</td>\n",
       "      <td>0.000000</td>\n",
       "      <td>0.000000e+00</td>\n",
       "      <td>2009.000000</td>\n",
       "      <td>1.000000</td>\n",
       "      <td>1.000000</td>\n",
       "      <td>0.0</td>\n",
       "      <td>1.000000</td>\n",
       "      <td>1.000000e-02</td>\n",
       "      <td>1.000000</td>\n",
       "      <td>1.000000</td>\n",
       "    </tr>\n",
       "    <tr>\n",
       "      <th>25%</th>\n",
       "      <td>5.367038e+08</td>\n",
       "      <td>2.000000</td>\n",
       "      <td>5.000000e+01</td>\n",
       "      <td>2014.000000</td>\n",
       "      <td>3.000000</td>\n",
       "      <td>8.000000</td>\n",
       "      <td>0.0</td>\n",
       "      <td>30.000000</td>\n",
       "      <td>1.977000e+03</td>\n",
       "      <td>16.000000</td>\n",
       "      <td>4.000000</td>\n",
       "    </tr>\n",
       "    <tr>\n",
       "      <th>50%</th>\n",
       "      <td>1.076023e+09</td>\n",
       "      <td>17.000000</td>\n",
       "      <td>9.271233e+02</td>\n",
       "      <td>2015.000000</td>\n",
       "      <td>6.000000</td>\n",
       "      <td>15.000000</td>\n",
       "      <td>0.0</td>\n",
       "      <td>30.000000</td>\n",
       "      <td>5.000000e+03</td>\n",
       "      <td>20.000000</td>\n",
       "      <td>6.000000</td>\n",
       "    </tr>\n",
       "    <tr>\n",
       "      <th>75%</th>\n",
       "      <td>1.609298e+09</td>\n",
       "      <td>70.000000</td>\n",
       "      <td>5.104000e+03</td>\n",
       "      <td>2017.000000</td>\n",
       "      <td>9.000000</td>\n",
       "      <td>23.000000</td>\n",
       "      <td>0.0</td>\n",
       "      <td>36.000000</td>\n",
       "      <td>1.500000e+04</td>\n",
       "      <td>23.000000</td>\n",
       "      <td>8.000000</td>\n",
       "    </tr>\n",
       "    <tr>\n",
       "      <th>max</th>\n",
       "      <td>2.147476e+09</td>\n",
       "      <td>219382.000000</td>\n",
       "      <td>2.033899e+07</td>\n",
       "      <td>2019.000000</td>\n",
       "      <td>12.000000</td>\n",
       "      <td>31.000000</td>\n",
       "      <td>0.0</td>\n",
       "      <td>93.000000</td>\n",
       "      <td>1.523501e+08</td>\n",
       "      <td>41.000000</td>\n",
       "      <td>29.000000</td>\n",
       "    </tr>\n",
       "  </tbody>\n",
       "</table>\n",
       "</div>"
      ],
      "text/plain": [
       "                 id  backers_count   usd_pledged           year  \\\n",
       "count  3.131920e+05  313192.000000  3.131920e+05  313192.000000   \n",
       "mean   1.074186e+09     128.309123  1.092841e+04    2015.057786   \n",
       "std    6.193455e+08     972.342455  9.792958e+04       2.262361   \n",
       "min    8.624000e+03       0.000000  0.000000e+00    2009.000000   \n",
       "25%    5.367038e+08       2.000000  5.000000e+01    2014.000000   \n",
       "50%    1.076023e+09      17.000000  9.271233e+02    2015.000000   \n",
       "75%    1.609298e+09      70.000000  5.104000e+03    2017.000000   \n",
       "max    2.147476e+09  219382.000000  2.033899e+07    2019.000000   \n",
       "\n",
       "               month            day      hour  campaign_duration  \\\n",
       "count  313192.000000  313192.000000  313192.0      313192.000000   \n",
       "mean        6.294810      15.208090       0.0          33.736242   \n",
       "std         3.358188       8.843429       0.0          12.389012   \n",
       "min         1.000000       1.000000       0.0           1.000000   \n",
       "25%         3.000000       8.000000       0.0          30.000000   \n",
       "50%         6.000000      15.000000       0.0          30.000000   \n",
       "75%         9.000000      23.000000       0.0          36.000000   \n",
       "max        12.000000      31.000000       0.0          93.000000   \n",
       "\n",
       "           goal_USD  description_length    name_length  \n",
       "count  3.131920e+05       313192.000000  313192.000000  \n",
       "mean   3.935532e+04           19.032201       5.756226  \n",
       "std    1.021775e+06            5.050245       2.749569  \n",
       "min    1.000000e-02            1.000000       1.000000  \n",
       "25%    1.977000e+03           16.000000       4.000000  \n",
       "50%    5.000000e+03           20.000000       6.000000  \n",
       "75%    1.500000e+04           23.000000       8.000000  \n",
       "max    1.523501e+08           41.000000      29.000000  "
      ]
     },
     "execution_count": 19,
     "metadata": {},
     "output_type": "execute_result"
    }
   ],
   "source": [
    "k_data.describe()"
   ]
  },
  {
   "cell_type": "code",
   "execution_count": 20,
   "metadata": {},
   "outputs": [],
   "source": [
    "k_data.drop('hour', axis=1, inplace=True)"
   ]
  },
  {
   "cell_type": "code",
   "execution_count": 21,
   "metadata": {},
   "outputs": [
    {
     "data": {
      "text/html": [
       "<div>\n",
       "<style scoped>\n",
       "    .dataframe tbody tr th:only-of-type {\n",
       "        vertical-align: middle;\n",
       "    }\n",
       "\n",
       "    .dataframe tbody tr th {\n",
       "        vertical-align: top;\n",
       "    }\n",
       "\n",
       "    .dataframe thead th {\n",
       "        text-align: right;\n",
       "    }\n",
       "</style>\n",
       "<table border=\"1\" class=\"dataframe\">\n",
       "  <thead>\n",
       "    <tr style=\"text-align: right;\">\n",
       "      <th></th>\n",
       "      <th>id</th>\n",
       "      <th>backers_count</th>\n",
       "      <th>usd_pledged</th>\n",
       "      <th>year</th>\n",
       "      <th>month</th>\n",
       "      <th>day</th>\n",
       "      <th>campaign_duration</th>\n",
       "      <th>goal_USD</th>\n",
       "      <th>description_length</th>\n",
       "      <th>name_length</th>\n",
       "    </tr>\n",
       "  </thead>\n",
       "  <tbody>\n",
       "    <tr>\n",
       "      <th>count</th>\n",
       "      <td>3.131920e+05</td>\n",
       "      <td>313192.000000</td>\n",
       "      <td>3.131920e+05</td>\n",
       "      <td>313192.000000</td>\n",
       "      <td>313192.000000</td>\n",
       "      <td>313192.000000</td>\n",
       "      <td>313192.000000</td>\n",
       "      <td>3.131920e+05</td>\n",
       "      <td>313192.000000</td>\n",
       "      <td>313192.000000</td>\n",
       "    </tr>\n",
       "    <tr>\n",
       "      <th>mean</th>\n",
       "      <td>1.074186e+09</td>\n",
       "      <td>128.309123</td>\n",
       "      <td>1.092841e+04</td>\n",
       "      <td>2015.057786</td>\n",
       "      <td>6.294810</td>\n",
       "      <td>15.208090</td>\n",
       "      <td>33.736242</td>\n",
       "      <td>3.935532e+04</td>\n",
       "      <td>19.032201</td>\n",
       "      <td>5.756226</td>\n",
       "    </tr>\n",
       "    <tr>\n",
       "      <th>std</th>\n",
       "      <td>6.193455e+08</td>\n",
       "      <td>972.342455</td>\n",
       "      <td>9.792958e+04</td>\n",
       "      <td>2.262361</td>\n",
       "      <td>3.358188</td>\n",
       "      <td>8.843429</td>\n",
       "      <td>12.389012</td>\n",
       "      <td>1.021775e+06</td>\n",
       "      <td>5.050245</td>\n",
       "      <td>2.749569</td>\n",
       "    </tr>\n",
       "    <tr>\n",
       "      <th>min</th>\n",
       "      <td>8.624000e+03</td>\n",
       "      <td>0.000000</td>\n",
       "      <td>0.000000e+00</td>\n",
       "      <td>2009.000000</td>\n",
       "      <td>1.000000</td>\n",
       "      <td>1.000000</td>\n",
       "      <td>1.000000</td>\n",
       "      <td>1.000000e-02</td>\n",
       "      <td>1.000000</td>\n",
       "      <td>1.000000</td>\n",
       "    </tr>\n",
       "    <tr>\n",
       "      <th>25%</th>\n",
       "      <td>5.367038e+08</td>\n",
       "      <td>2.000000</td>\n",
       "      <td>5.000000e+01</td>\n",
       "      <td>2014.000000</td>\n",
       "      <td>3.000000</td>\n",
       "      <td>8.000000</td>\n",
       "      <td>30.000000</td>\n",
       "      <td>1.977000e+03</td>\n",
       "      <td>16.000000</td>\n",
       "      <td>4.000000</td>\n",
       "    </tr>\n",
       "    <tr>\n",
       "      <th>50%</th>\n",
       "      <td>1.076023e+09</td>\n",
       "      <td>17.000000</td>\n",
       "      <td>9.271233e+02</td>\n",
       "      <td>2015.000000</td>\n",
       "      <td>6.000000</td>\n",
       "      <td>15.000000</td>\n",
       "      <td>30.000000</td>\n",
       "      <td>5.000000e+03</td>\n",
       "      <td>20.000000</td>\n",
       "      <td>6.000000</td>\n",
       "    </tr>\n",
       "    <tr>\n",
       "      <th>75%</th>\n",
       "      <td>1.609298e+09</td>\n",
       "      <td>70.000000</td>\n",
       "      <td>5.104000e+03</td>\n",
       "      <td>2017.000000</td>\n",
       "      <td>9.000000</td>\n",
       "      <td>23.000000</td>\n",
       "      <td>36.000000</td>\n",
       "      <td>1.500000e+04</td>\n",
       "      <td>23.000000</td>\n",
       "      <td>8.000000</td>\n",
       "    </tr>\n",
       "    <tr>\n",
       "      <th>max</th>\n",
       "      <td>2.147476e+09</td>\n",
       "      <td>219382.000000</td>\n",
       "      <td>2.033899e+07</td>\n",
       "      <td>2019.000000</td>\n",
       "      <td>12.000000</td>\n",
       "      <td>31.000000</td>\n",
       "      <td>93.000000</td>\n",
       "      <td>1.523501e+08</td>\n",
       "      <td>41.000000</td>\n",
       "      <td>29.000000</td>\n",
       "    </tr>\n",
       "  </tbody>\n",
       "</table>\n",
       "</div>"
      ],
      "text/plain": [
       "                 id  backers_count   usd_pledged           year  \\\n",
       "count  3.131920e+05  313192.000000  3.131920e+05  313192.000000   \n",
       "mean   1.074186e+09     128.309123  1.092841e+04    2015.057786   \n",
       "std    6.193455e+08     972.342455  9.792958e+04       2.262361   \n",
       "min    8.624000e+03       0.000000  0.000000e+00    2009.000000   \n",
       "25%    5.367038e+08       2.000000  5.000000e+01    2014.000000   \n",
       "50%    1.076023e+09      17.000000  9.271233e+02    2015.000000   \n",
       "75%    1.609298e+09      70.000000  5.104000e+03    2017.000000   \n",
       "max    2.147476e+09  219382.000000  2.033899e+07    2019.000000   \n",
       "\n",
       "               month            day  campaign_duration      goal_USD  \\\n",
       "count  313192.000000  313192.000000      313192.000000  3.131920e+05   \n",
       "mean        6.294810      15.208090          33.736242  3.935532e+04   \n",
       "std         3.358188       8.843429          12.389012  1.021775e+06   \n",
       "min         1.000000       1.000000           1.000000  1.000000e-02   \n",
       "25%         3.000000       8.000000          30.000000  1.977000e+03   \n",
       "50%         6.000000      15.000000          30.000000  5.000000e+03   \n",
       "75%         9.000000      23.000000          36.000000  1.500000e+04   \n",
       "max        12.000000      31.000000          93.000000  1.523501e+08   \n",
       "\n",
       "       description_length    name_length  \n",
       "count       313192.000000  313192.000000  \n",
       "mean            19.032201       5.756226  \n",
       "std              5.050245       2.749569  \n",
       "min              1.000000       1.000000  \n",
       "25%             16.000000       4.000000  \n",
       "50%             20.000000       6.000000  \n",
       "75%             23.000000       8.000000  \n",
       "max             41.000000      29.000000  "
      ]
     },
     "execution_count": 21,
     "metadata": {},
     "output_type": "execute_result"
    }
   ],
   "source": [
    "k_data.describe()"
   ]
  },
  {
   "cell_type": "code",
   "execution_count": 22,
   "metadata": {},
   "outputs": [
    {
     "data": {
      "image/png": "[encoded data removed]",
      "text/plain": [
       "<Figure size 576x576 with 1 Axes>"
      ]
     },
     "metadata": {
      "needs_background": "light"
     },
     "output_type": "display_data"
    }
   ],
   "source": [
    "k_data_correlation = k_data.corr()\n",
    "plt.figure(figsize=(8,8))\n",
    "g = sns.heatmap(k_data_correlation, cmap='coolwarm', annot = True, fmt='.1f', center =0, vmin = -1, vmax = 1,\n",
    "               linewidths=.5, linecolor='black', square = True, cbar=False)\n",
    "plt.show()"
   ]
  },
  {
   "cell_type": "code",
   "execution_count": 23,
   "metadata": {},
   "outputs": [],
   "source": [
    "k_data.drop('usd_pledged', axis=1, inplace = True)"
   ]
  },
  {
   "cell_type": "code",
   "execution_count": 24,
   "metadata": {},
   "outputs": [
    {
     "data": {
      "image/png": "[encoded data removed]",
      "text/plain": [
       "<Figure size 432x288 with 1 Axes>"
      ]
     },
     "metadata": {},
     "output_type": "display_data"
    }
   ],
   "source": [
    "status = np.array(k_data['binary_state'])\n",
    "for replacer in range(len(status)):\n",
    "    if status[replacer] == 'failed':\n",
    "        status[replacer] = 0\n",
    "    else:\n",
    "        status[replacer] = 1\n",
    "words_appearances = dict()\n",
    "for word in status:\n",
    "    if word in words_appearances:\n",
    "       words_appearances[word] += 1\n",
    "    else:\n",
    "        words_appearances[word] = 1\n",
    "plt.axis('equal')\n",
    "plt.pie(words_appearances.values(), labels=['Failed', 'Successful'], autopct = '%0.1f%%')\n",
    "plt.show()"
   ]
  },
  {
   "cell_type": "code",
   "execution_count": 25,
   "metadata": {},
   "outputs": [
    {
     "data": {
      "image/png": "[encoded data removed]",
      "text/plain": [
       "<Figure size 432x288 with 1 Axes>"
      ]
     },
     "metadata": {
      "needs_background": "light"
     },
     "output_type": "display_data"
    }
   ],
   "source": [
    "plt.scatter(k_data[\"campaign_duration\"], k_data[\"goal_USD\"])\n",
    "plt.xlabel=\"Duration\"\n",
    "plt.ylabel=\"Goal\"\n",
    "plt.show()"
   ]
  },
  {
   "cell_type": "code",
   "execution_count": 26,
   "metadata": {},
   "outputs": [
    {
     "data": {
      "text/plain": [
       "array(['art', 'comics', 'crafts', 'design', 'dance', 'fashion',\n",
       "       'film & video', 'food', 'games', 'music', 'journalism',\n",
       "       'publishing', 'photography', 'technology', 'theater'], dtype=object)"
      ]
     },
     "execution_count": 26,
     "metadata": {},
     "output_type": "execute_result"
    }
   ],
   "source": [
    "k_data.category.unique()"
   ]
  },
  {
   "cell_type": "code",
   "execution_count": 27,
   "metadata": {},
   "outputs": [
    {
     "data": {
      "text/plain": [
       "<matplotlib.axes._subplots.AxesSubplot at 0x7f8885bafbe0>"
      ]
     },
     "execution_count": 27,
     "metadata": {},
     "output_type": "execute_result"
    },
    {
     "data": {
      "image/png": "[encoded data removed]",
      "text/plain": [
       "<Figure size 1080x720 with 1 Axes>"
      ]
     },
     "metadata": {
      "needs_background": "light"
     },
     "output_type": "display_data"
    }
   ],
   "source": [
    "plt.figure(figsize=(15,10))\n",
    "plt.xlabel=\"Goal\"\n",
    "plt.ylabel=\"Category\"\n",
    "sns.set_style(\"whitegrid\", None)\n",
    "sns.barplot(x=\"goal_USD\", y=\"category\", data=k_data, hue=\"binary_state\")"
   ]
  },
  {
   "cell_type": "code",
   "execution_count": 28,
   "metadata": {},
   "outputs": [
    {
     "data": {
      "text/plain": [
       "<matplotlib.axes._subplots.AxesSubplot at 0x7f88859dac18>"
      ]
     },
     "execution_count": 28,
     "metadata": {},
     "output_type": "execute_result"
    },
    {
     "data": {
      "image/png": "[encoded data removed]",
      "text/plain": [
       "<Figure size 864x576 with 1 Axes>"
      ]
     },
     "metadata": {},
     "output_type": "display_data"
    }
   ],
   "source": [
    "plt.figure(figsize=(12,8))\n",
    "sns.set_style(\"darkgrid\", None)\n",
    "sns.scatterplot( x=\"description_length\", y=\"name_length\", data=k_data, hue=\"binary_state\")"
   ]
  },
  {
   "cell_type": "code",
   "execution_count": 29,
   "metadata": {},
   "outputs": [
    {
     "data": {
      "image/png": "[encoded data removed]",
      "text/plain": [
       "<Figure size 576x648 with 1 Axes>"
      ]
     },
     "metadata": {},
     "output_type": "display_data"
    }
   ],
   "source": [
    "bystaffpick = k_data.groupby(by=['staff_pick', 'binary_state']).count()\n",
    "bystaffpick = bystaffpick['id'].unstack('binary_state').fillna(0)\n",
    "bystaffpick['success_rate'] = bystaffpick['successful'] / (bystaffpick['successful'] + bystaffpick['failed'])\n",
    "plt.figure(figsize=(8,9))\n",
    "plt.ylabel=\"Success rate\"\n",
    "bystaffpick['success_rate'].plot(kind='bar', color=\"red\")\n",
    "plt.show()"
   ]
  },
  {
   "cell_type": "code",
   "execution_count": 30,
   "metadata": {},
   "outputs": [
    {
     "data": {
      "text/html": [
       "<div>\n",
       "<style scoped>\n",
       "    .dataframe tbody tr th:only-of-type {\n",
       "        vertical-align: middle;\n",
       "    }\n",
       "\n",
       "    .dataframe tbody tr th {\n",
       "        vertical-align: top;\n",
       "    }\n",
       "\n",
       "    .dataframe thead th {\n",
       "        text-align: right;\n",
       "    }\n",
       "</style>\n",
       "<table border=\"1\" class=\"dataframe\">\n",
       "  <thead>\n",
       "    <tr style=\"text-align: right;\">\n",
       "      <th></th>\n",
       "      <th>successful</th>\n",
       "    </tr>\n",
       "  </thead>\n",
       "  <tbody>\n",
       "    <tr>\n",
       "      <th>2053</th>\n",
       "      <td>0</td>\n",
       "    </tr>\n",
       "    <tr>\n",
       "      <th>2576</th>\n",
       "      <td>0</td>\n",
       "    </tr>\n",
       "    <tr>\n",
       "      <th>2848</th>\n",
       "      <td>0</td>\n",
       "    </tr>\n",
       "    <tr>\n",
       "      <th>541</th>\n",
       "      <td>0</td>\n",
       "    </tr>\n",
       "    <tr>\n",
       "      <th>768</th>\n",
       "      <td>1</td>\n",
       "    </tr>\n",
       "  </tbody>\n",
       "</table>\n",
       "</div>"
      ],
      "text/plain": [
       "      successful\n",
       "2053           0\n",
       "2576           0\n",
       "2848           0\n",
       "541            0\n",
       "768            1"
      ]
     },
     "execution_count": 30,
     "metadata": {},
     "output_type": "execute_result"
    }
   ],
   "source": [
    "# Transform binary_state into categorical variable\n",
    "successful = pd.get_dummies(k_data.binary_state, drop_first=True)\n",
    "successful.tail(5)"
   ]
  },
  {
   "cell_type": "code",
   "execution_count": 31,
   "metadata": {},
   "outputs": [
    {
     "data": {
      "text/plain": [
       "count     313192\n",
       "unique        14\n",
       "top          USD\n",
       "freq      233062\n",
       "Name: currency, dtype: object"
      ]
     },
     "execution_count": 31,
     "metadata": {},
     "output_type": "execute_result"
    }
   ],
   "source": [
    "k_data.currency.describe()"
   ]
  },
  {
   "cell_type": "code",
   "execution_count": 32,
   "metadata": {},
   "outputs": [
    {
     "data": {
      "text/plain": [
       "array(['Digital Art', 'Illustration', 'Public Art', 'Ceramics',\n",
       "       'Conceptual Art', 'Sculpture', 'Mixed Media', 'Performance Art',\n",
       "       'Installations', 'Textiles', 'Video Art', 'Anthologies',\n",
       "       'Comic Books', 'Candles', 'Crochet', 'DIY', 'Embroidery', 'Glass',\n",
       "       'Knitting', 'Letterpress', 'Pottery', 'Printing', 'Quilts',\n",
       "       'Stationery', 'Graphic Design', 'Painting', 'Events',\n",
       "       'Graphic Novels', 'Webcomics', 'Interactive Design',\n",
       "       'Product Design', 'Taxidermy', 'Weaving', 'Woodworking',\n",
       "       'Performances', 'Residencies', 'Spaces', 'Workshops',\n",
       "       'Architecture', 'Civic Design', 'Accessories', 'Apparel',\n",
       "       'Typography', 'Footwear', 'Jewelry', 'Pet Fashion',\n",
       "       'Ready-to-wear', 'Action', 'Drama', 'Childrenswear', 'Couture',\n",
       "       'Experimental', 'Family', 'Fantasy', 'Horror', 'Animation',\n",
       "       'Documentary', 'Movie Theaters', 'Music Videos', 'Narrative Film',\n",
       "       'Festivals', 'Science Fiction', 'Comedy', 'Shorts', 'Television',\n",
       "       'Thrillers', 'Romance', 'Webseries', 'Bacon', 'Community Gardens',\n",
       "       'Cookbooks', 'Drinks', 'Small Batch', 'Vegan', 'Live Games',\n",
       "       'Mobile Games', \"Farmer's Markets\", 'Farms', 'Food Trucks',\n",
       "       'Restaurants', 'Playing Cards', 'Tabletop Games',\n",
       "       'Gaming Hardware', 'Video Games', 'Country & Folk', 'Puzzles',\n",
       "       'Print', 'Video', 'Web', 'Blues', 'Chiptune', 'Classical Music',\n",
       "       'Audio', 'Photo', 'Electronic Music', 'Indie Rock', 'Jazz',\n",
       "       'Faith', 'Hip-Hop', 'Pop', 'Rock', 'Metal', 'World Music', 'Punk',\n",
       "       'R&B', 'Art Books', 'Kids', 'Latin', 'Calendars',\n",
       "       \"Children's Books\", 'People', 'Photobooks', 'Places', 'Academic',\n",
       "       'Animals', 'Fine Art', 'Nature', 'Fiction', 'Literary Journals',\n",
       "       'Nonfiction', 'Poetry', 'Radio & Podcasts', 'Translations',\n",
       "       'Young Adult', '3D Printing', 'Apps', 'Periodicals', 'Hardware',\n",
       "       'Zines', 'Makerspaces', 'Robots', 'Software', 'DIY Electronics',\n",
       "       'Fabrication Tools', 'Flight', 'Gadgets', 'Camera Equipment',\n",
       "       'Sound', 'Space Exploration', 'Wearables', 'Immersive', 'Musical',\n",
       "       'Plays', 'Theater', 'Technology', 'Publishing', 'Literary Spaces',\n",
       "       'Photography', 'Music', 'Journalism', 'Crafts', 'Design', 'Dance',\n",
       "       'Comics', 'Food', 'Games', 'Art', 'Film & Video', 'Fashion'],\n",
       "      dtype=object)"
      ]
     },
     "execution_count": 32,
     "metadata": {},
     "output_type": "execute_result"
    }
   ],
   "source": [
    "k_data.subcategory.unique()"
   ]
  },
  {
   "cell_type": "code",
   "execution_count": 33,
   "metadata": {},
   "outputs": [
    {
     "data": {
      "text/html": [
       "<div>\n",
       "<style scoped>\n",
       "    .dataframe tbody tr th:only-of-type {\n",
       "        vertical-align: middle;\n",
       "    }\n",
       "\n",
       "    .dataframe tbody tr th {\n",
       "        vertical-align: top;\n",
       "    }\n",
       "\n",
       "    .dataframe thead th {\n",
       "        text-align: right;\n",
       "    }\n",
       "</style>\n",
       "<table border=\"1\" class=\"dataframe\">\n",
       "  <thead>\n",
       "    <tr style=\"text-align: right;\">\n",
       "      <th></th>\n",
       "      <th>id</th>\n",
       "      <th>backers_count</th>\n",
       "      <th>currency</th>\n",
       "      <th>staff_pick</th>\n",
       "      <th>year</th>\n",
       "      <th>month</th>\n",
       "      <th>day</th>\n",
       "      <th>campaign_duration</th>\n",
       "      <th>goal_USD</th>\n",
       "      <th>subcategory</th>\n",
       "      <th>category</th>\n",
       "      <th>description_length</th>\n",
       "      <th>location_type</th>\n",
       "      <th>location_country</th>\n",
       "      <th>location_state</th>\n",
       "      <th>name_length</th>\n",
       "      <th>successful</th>\n",
       "    </tr>\n",
       "  </thead>\n",
       "  <tbody>\n",
       "    <tr>\n",
       "      <th>2053</th>\n",
       "      <td>1267683321</td>\n",
       "      <td>45</td>\n",
       "      <td>GBP</td>\n",
       "      <td>True</td>\n",
       "      <td>2018</td>\n",
       "      <td>6</td>\n",
       "      <td>6</td>\n",
       "      <td>30</td>\n",
       "      <td>26623.359400</td>\n",
       "      <td>Design</td>\n",
       "      <td>design</td>\n",
       "      <td>20</td>\n",
       "      <td>Town</td>\n",
       "      <td>GB</td>\n",
       "      <td>England</td>\n",
       "      <td>7</td>\n",
       "      <td>0</td>\n",
       "    </tr>\n",
       "    <tr>\n",
       "      <th>2576</th>\n",
       "      <td>1975312856</td>\n",
       "      <td>1</td>\n",
       "      <td>GBP</td>\n",
       "      <td>False</td>\n",
       "      <td>2018</td>\n",
       "      <td>6</td>\n",
       "      <td>9</td>\n",
       "      <td>30</td>\n",
       "      <td>4695.465530</td>\n",
       "      <td>Comics</td>\n",
       "      <td>comics</td>\n",
       "      <td>17</td>\n",
       "      <td>Town</td>\n",
       "      <td>GB</td>\n",
       "      <td>England</td>\n",
       "      <td>6</td>\n",
       "      <td>0</td>\n",
       "    </tr>\n",
       "    <tr>\n",
       "      <th>2848</th>\n",
       "      <td>1223758283</td>\n",
       "      <td>7</td>\n",
       "      <td>EUR</td>\n",
       "      <td>False</td>\n",
       "      <td>2018</td>\n",
       "      <td>5</td>\n",
       "      <td>29</td>\n",
       "      <td>30</td>\n",
       "      <td>556.518237</td>\n",
       "      <td>Design</td>\n",
       "      <td>design</td>\n",
       "      <td>14</td>\n",
       "      <td>Town</td>\n",
       "      <td>IT</td>\n",
       "      <td>Lazio</td>\n",
       "      <td>7</td>\n",
       "      <td>0</td>\n",
       "    </tr>\n",
       "    <tr>\n",
       "      <th>541</th>\n",
       "      <td>1535298356</td>\n",
       "      <td>7</td>\n",
       "      <td>USD</td>\n",
       "      <td>False</td>\n",
       "      <td>2018</td>\n",
       "      <td>6</td>\n",
       "      <td>4</td>\n",
       "      <td>30</td>\n",
       "      <td>1500.000000</td>\n",
       "      <td>Comic Books</td>\n",
       "      <td>comics</td>\n",
       "      <td>21</td>\n",
       "      <td>Town</td>\n",
       "      <td>US</td>\n",
       "      <td>MI</td>\n",
       "      <td>6</td>\n",
       "      <td>0</td>\n",
       "    </tr>\n",
       "    <tr>\n",
       "      <th>768</th>\n",
       "      <td>320459788</td>\n",
       "      <td>62</td>\n",
       "      <td>USD</td>\n",
       "      <td>False</td>\n",
       "      <td>2018</td>\n",
       "      <td>5</td>\n",
       "      <td>21</td>\n",
       "      <td>10</td>\n",
       "      <td>550.000000</td>\n",
       "      <td>Graphic Design</td>\n",
       "      <td>design</td>\n",
       "      <td>8</td>\n",
       "      <td>Town</td>\n",
       "      <td>US</td>\n",
       "      <td>IL</td>\n",
       "      <td>6</td>\n",
       "      <td>1</td>\n",
       "    </tr>\n",
       "  </tbody>\n",
       "</table>\n",
       "</div>"
      ],
      "text/plain": [
       "              id  backers_count currency  staff_pick  year  month  day  \\\n",
       "2053  1267683321             45      GBP        True  2018      6    6   \n",
       "2576  1975312856              1      GBP       False  2018      6    9   \n",
       "2848  1223758283              7      EUR       False  2018      5   29   \n",
       "541   1535298356              7      USD       False  2018      6    4   \n",
       "768    320459788             62      USD       False  2018      5   21   \n",
       "\n",
       "      campaign_duration      goal_USD     subcategory category  \\\n",
       "2053                 30  26623.359400          Design   design   \n",
       "2576                 30   4695.465530          Comics   comics   \n",
       "2848                 30    556.518237          Design   design   \n",
       "541                  30   1500.000000     Comic Books   comics   \n",
       "768                  10    550.000000  Graphic Design   design   \n",
       "\n",
       "      description_length location_type location_country location_state  \\\n",
       "2053                  20          Town               GB        England   \n",
       "2576                  17          Town               GB        England   \n",
       "2848                  14          Town               IT          Lazio   \n",
       "541                   21          Town               US             MI   \n",
       "768                    8          Town               US             IL   \n",
       "\n",
       "      name_length  successful  \n",
       "2053            7           0  \n",
       "2576            6           0  \n",
       "2848            7           0  \n",
       "541             6           0  \n",
       "768             6           1  "
      ]
     },
     "execution_count": 33,
     "metadata": {},
     "output_type": "execute_result"
    }
   ],
   "source": [
    "k_data = pd.concat([k_data, successful], axis=1)\n",
    "k_data.drop('binary_state', axis =1, inplace = True)\n",
    "k_data.tail(5)"
   ]
  },
  {
   "cell_type": "code",
   "execution_count": 34,
   "metadata": {},
   "outputs": [],
   "source": [
    "staff_picked = pd.get_dummies(k_data.staff_pick, drop_first=True)\n",
    "currency = pd.get_dummies(k_data.currency)\n",
    "category = pd.get_dummies(k_data.category)\n",
    "subcategory = pd.get_dummies(k_data.subcategory)\n",
    "loc_type = pd.get_dummies(k_data.location_type)\n",
    "country = pd.get_dummies(k_data.location_country)\n",
    "k_data = pd.concat([k_data, staff_picked, currency, category, subcategory, loc_type], axis=1)\n",
    "k_data.drop(\"id\", axis=1, inplace=True)\n",
    "k_data.drop(\"backers_count\", axis=1, inplace=True)\n",
    "k_data.drop(\"currency\", axis=1, inplace=True)\n",
    "k_data.drop(\"staff_pick\", axis=1, inplace=True)\n",
    "k_data.drop(\"subcategory\", axis=1, inplace=True)\n",
    "k_data.drop(\"category\", axis=1, inplace=True)\n",
    "k_data.drop(\"location_country\", axis=1, inplace=True)\n",
    "k_data.drop(\"location_state\", axis=1, inplace=True)\n",
    "k_data.drop(\"location_type\", axis=1, inplace=True)"
   ]
  },
  {
   "cell_type": "code",
   "execution_count": 35,
   "metadata": {},
   "outputs": [],
   "source": [
    "# Separating the features\n",
    "Y = k_data.successful\n",
    "k_data.drop(\"successful\", axis=1, inplace = True)\n",
    "X = k_data"
   ]
  },
  {
   "cell_type": "code",
   "execution_count": 36,
   "metadata": {},
   "outputs": [
    {
     "name": "stdout",
     "output_type": "stream",
     "text": [
      "<class 'pandas.core.frame.DataFrame'>\n",
      "Int64Index: 313192 entries, 0 to 768\n",
      "Columns: 205 entries, year to Zip\n",
      "dtypes: float64(1), int64(6), uint8(198)\n",
      "memory usage: 88.3 MB\n"
     ]
    }
   ],
   "source": [
    "X.info()"
   ]
  },
  {
   "cell_type": "code",
   "execution_count": 37,
   "metadata": {},
   "outputs": [],
   "source": [
    "from sklearn.model_selection import train_test_split"
   ]
  },
  {
   "cell_type": "code",
   "execution_count": 38,
   "metadata": {},
   "outputs": [],
   "source": [
    "X_train, X_test, Y_train, Y_test = train_test_split(X, Y, test_size=0.3, random_state=1)"
   ]
  },
  {
   "cell_type": "code",
   "execution_count": 39,
   "metadata": {},
   "outputs": [],
   "source": [
    "from sklearn.linear_model import LogisticRegression"
   ]
  },
  {
   "cell_type": "code",
   "execution_count": 40,
   "metadata": {},
   "outputs": [],
   "source": [
    "logmodel = LogisticRegression()"
   ]
  },
  {
   "cell_type": "code",
   "execution_count": 41,
   "metadata": {},
   "outputs": [
    {
     "name": "stderr",
     "output_type": "stream",
     "text": [
      "/srv/conda/envs/notebook/lib/python3.7/site-packages/sklearn/linear_model/logistic.py:432: FutureWarning: Default solver will be changed to 'lbfgs' in 0.22. Specify a solver to silence this warning.\n",
      "  FutureWarning)\n"
     ]
    },
    {
     "data": {
      "text/plain": [
       "LogisticRegression(C=1.0, class_weight=None, dual=False, fit_intercept=True,\n",
       "                   intercept_scaling=1, l1_ratio=None, max_iter=100,\n",
       "                   multi_class='warn', n_jobs=None, penalty='l2',\n",
       "                   random_state=None, solver='warn', tol=0.0001, verbose=0,\n",
       "                   warm_start=False)"
      ]
     },
     "execution_count": 41,
     "metadata": {},
     "output_type": "execute_result"
    }
   ],
   "source": [
    "logmodel.fit(X_train, Y_train)"
   ]
  },
  {
   "cell_type": "code",
   "execution_count": 42,
   "metadata": {},
   "outputs": [],
   "source": [
    "prediction = logmodel.predict(X_test)"
   ]
  },
  {
   "cell_type": "code",
   "execution_count": 43,
   "metadata": {},
   "outputs": [],
   "source": [
    "from sklearn.metrics import classification_report"
   ]
  },
  {
   "cell_type": "code",
   "execution_count": 44,
   "metadata": {},
   "outputs": [
    {
     "data": {
      "text/plain": [
       "'              precision    recall  f1-score   support\\n\\n           0       0.61      0.90      0.72     53630\\n           1       0.63      0.22      0.32     40328\\n\\n    accuracy                           0.61     93958\\n   macro avg       0.62      0.56      0.52     93958\\nweighted avg       0.62      0.61      0.55     93958\\n'"
      ]
     },
     "execution_count": 44,
     "metadata": {},
     "output_type": "execute_result"
    }
   ],
   "source": [
    "classification_report(Y_test, prediction)"
   ]
  },
  {
   "cell_type": "code",
   "execution_count": 45,
   "metadata": {},
   "outputs": [],
   "source": [
    "from sklearn.metrics import confusion_matrix"
   ]
  },
  {
   "cell_type": "code",
   "execution_count": 46,
   "metadata": {},
   "outputs": [],
   "source": [
    "confusion_matri = confusion_matrix(Y_test, prediction)"
   ]
  },
  {
   "cell_type": "code",
   "execution_count": 47,
   "metadata": {},
   "outputs": [],
   "source": [
    "from sklearn.metrics import accuracy_score"
   ]
  },
  {
   "cell_type": "code",
   "execution_count": 48,
   "metadata": {},
   "outputs": [
    {
     "data": {
      "text/plain": [
       "0.6090912961110283"
      ]
     },
     "execution_count": 48,
     "metadata": {},
     "output_type": "execute_result"
    }
   ],
   "source": [
    "accuracy_score(Y_test, prediction)"
   ]
  },
  {
   "cell_type": "code",
   "execution_count": 49,
   "metadata": {},
   "outputs": [],
   "source": [
    "TP = confusion_matri[1, 1]\n",
    "TN = confusion_matri[0, 0]\n",
    "FP = confusion_matri[0, 1]\n",
    "FN = confusion_matri[1, 0]"
   ]
  },
  {
   "cell_type": "code",
   "execution_count": 50,
   "metadata": {},
   "outputs": [
    {
     "data": {
      "text/plain": [
       "0.21895457250545527"
      ]
     },
     "execution_count": 50,
     "metadata": {},
     "output_type": "execute_result"
    }
   ],
   "source": [
    "#Sensitivity\n",
    "TP / float(FN + TP)"
   ]
  },
  {
   "cell_type": "code",
   "execution_count": 51,
   "metadata": {},
   "outputs": [
    {
     "data": {
      "text/plain": [
       "0.9024613089688607"
      ]
     },
     "execution_count": 51,
     "metadata": {},
     "output_type": "execute_result"
    }
   ],
   "source": [
    "#Specificity\n",
    "TN / (TN + FP)"
   ]
  },
  {
   "cell_type": "code",
   "execution_count": 52,
   "metadata": {},
   "outputs": [],
   "source": [
    "from sklearn import svm, tree\n",
    "model3 = tree.DecisionTreeClassifier()"
   ]
  },
  {
   "cell_type": "code",
   "execution_count": 53,
   "metadata": {},
   "outputs": [],
   "source": [
    "model3.fit(X_train, Y_train)\n",
    "y_predt = model3.predict(X_test)"
   ]
  },
  {
   "cell_type": "code",
   "execution_count": 54,
   "metadata": {},
   "outputs": [
    {
     "data": {
      "text/plain": [
       "0.705240639434641"
      ]
     },
     "execution_count": 54,
     "metadata": {},
     "output_type": "execute_result"
    }
   ],
   "source": [
    "accuracy_score(Y_test, y_predt)"
   ]
  },
  {
   "cell_type": "code",
   "execution_count": 55,
   "metadata": {},
   "outputs": [
    {
     "data": {
      "text/plain": [
       "array([[39700, 13930],\n",
       "       [13765, 26563]])"
      ]
     },
     "execution_count": 55,
     "metadata": {},
     "output_type": "execute_result"
    }
   ],
   "source": [
    "confusion_matr = confusion_matrix(Y_test, y_predt)\n",
    "confusion_matr"
   ]
  },
  {
   "cell_type": "code",
   "execution_count": 56,
   "metadata": {},
   "outputs": [],
   "source": [
    "TP = confusion_matr[1, 1]\n",
    "TN = confusion_matr[0, 0]\n",
    "FP = confusion_matr[0, 1]\n",
    "FN = confusion_matr[1, 0]"
   ]
  },
  {
   "cell_type": "code",
   "execution_count": 57,
   "metadata": {},
   "outputs": [
    {
     "data": {
      "text/plain": [
       "0.6586738742313033"
      ]
     },
     "execution_count": 57,
     "metadata": {},
     "output_type": "execute_result"
    }
   ],
   "source": [
    "#Sensitivity\n",
    "TP / float(FN + TP)"
   ]
  },
  {
   "cell_type": "code",
   "execution_count": 58,
   "metadata": {},
   "outputs": [
    {
     "data": {
      "text/plain": [
       "0.7402573186649264"
      ]
     },
     "execution_count": 58,
     "metadata": {},
     "output_type": "execute_result"
    }
   ],
   "source": [
    "#Specificity\n",
    "TN / (TN + FP)"
   ]
  },
  {
   "cell_type": "code",
   "execution_count": 59,
   "metadata": {},
   "outputs": [],
   "source": [
    "from sklearn.ensemble import RandomForestClassifier\n",
    "model4 = RandomForestClassifier()"
   ]
  },
  {
   "cell_type": "code",
   "execution_count": 60,
   "metadata": {},
   "outputs": [
    {
     "name": "stderr",
     "output_type": "stream",
     "text": [
      "/srv/conda/envs/notebook/lib/python3.7/site-packages/sklearn/ensemble/forest.py:245: FutureWarning: The default value of n_estimators will change from 10 in version 0.20 to 100 in 0.22.\n",
      "  \"10 in version 0.20 to 100 in 0.22.\", FutureWarning)\n"
     ]
    },
    {
     "data": {
      "text/plain": [
       "RandomForestClassifier(bootstrap=True, class_weight=None, criterion='gini',\n",
       "                       max_depth=None, max_features='auto', max_leaf_nodes=None,\n",
       "                       min_impurity_decrease=0.0, min_impurity_split=None,\n",
       "                       min_samples_leaf=1, min_samples_split=2,\n",
       "                       min_weight_fraction_leaf=0.0, n_estimators=10,\n",
       "                       n_jobs=None, oob_score=False, random_state=None,\n",
       "                       verbose=0, warm_start=False)"
      ]
     },
     "execution_count": 60,
     "metadata": {},
     "output_type": "execute_result"
    }
   ],
   "source": [
    "model4.fit(X_train, Y_train)"
   ]
  },
  {
   "cell_type": "code",
   "execution_count": 61,
   "metadata": {},
   "outputs": [],
   "source": [
    "y_predt = model4.predict(X_test)"
   ]
  },
  {
   "cell_type": "code",
   "execution_count": 62,
   "metadata": {},
   "outputs": [
    {
     "data": {
      "text/plain": [
       "0.7573277421826774"
      ]
     },
     "execution_count": 62,
     "metadata": {},
     "output_type": "execute_result"
    }
   ],
   "source": [
    "accuracy_score(Y_test, y_predt)"
   ]
  },
  {
   "cell_type": "code",
   "execution_count": 63,
   "metadata": {},
   "outputs": [
    {
     "data": {
      "text/plain": [
       "array([[46351,  7279],\n",
       "       [15522, 24806]])"
      ]
     },
     "execution_count": 63,
     "metadata": {},
     "output_type": "execute_result"
    }
   ],
   "source": [
    "confusion_mat = confusion_matrix(Y_test, y_predt)\n",
    "confusion_mat"
   ]
  },
  {
   "cell_type": "code",
   "execution_count": 64,
   "metadata": {},
   "outputs": [],
   "source": [
    "TP = confusion_mat[1, 1]\n",
    "TN = confusion_mat[0, 0]\n",
    "FP = confusion_mat[0, 1]\n",
    "FN = confusion_mat[1, 0]"
   ]
  },
  {
   "cell_type": "code",
   "execution_count": 65,
   "metadata": {},
   "outputs": [
    {
     "data": {
      "text/plain": [
       "0.6151061297361634"
      ]
     },
     "execution_count": 65,
     "metadata": {},
     "output_type": "execute_result"
    }
   ],
   "source": [
    "#Sensitivity\n",
    "TP / float(FN + TP)"
   ]
  },
  {
   "cell_type": "code",
   "execution_count": 66,
   "metadata": {},
   "outputs": [
    {
     "data": {
      "text/plain": [
       "0.8642737273913854"
      ]
     },
     "execution_count": 66,
     "metadata": {},
     "output_type": "execute_result"
    }
   ],
   "source": [
    "#Specificity\n",
    "TN / (TN + FP)"
   ]
  },
  {
   "cell_type": "code",
   "execution_count": null,
   "metadata": {},
   "outputs": [],
   "source": [
    "from sklearn import naive_bayes\n",
    "model6 = naive_bayes.BernoulliNB()\n",
    "model6.fit(X_train, Y_train)"
   ]
  },
  {
   "cell_type": "code",
   "execution_count": null,
   "metadata": {},
   "outputs": [],
   "source": [
    "y_pred = model6.predict(X_test)"
   ]
  },
  {
   "cell_type": "code",
   "execution_count": null,
   "metadata": {},
   "outputs": [],
   "source": [
    "accuracy_score(Y_test, y_pred)"
   ]
  },
  {
   "cell_type": "code",
   "execution_count": null,
   "metadata": {},
   "outputs": [],
   "source": [
    "confusion_ma = confusion_matrix(Y_test, y_pred)\n",
    "confusion_ma"
   ]
  },
  {
   "cell_type": "code",
   "execution_count": null,
   "metadata": {},
   "outputs": [],
   "source": [
    "TP = confusion_ma[1, 1]\n",
    "TN = confusion_ma[0, 0]\n",
    "FP = confusion_ma[0, 1]\n",
    "FN = confusion_ma[1, 0]"
   ]
  },
  {
   "cell_type": "code",
   "execution_count": null,
   "metadata": {},
   "outputs": [],
   "source": [
    "#Sensitivity\n",
    "TP / float(FN + TP)"
   ]
  },
  {
   "cell_type": "code",
   "execution_count": null,
   "metadata": {},
   "outputs": [],
   "source": [
    "#Specificity\n",
    "TN / (TN + FP)"
   ]
  },
  {
   "cell_type": "code",
   "execution_count": null,
   "metadata": {},
   "outputs": [],
   "source": []
  },
  {
   "cell_type": "code",
   "execution_count": null,
   "metadata": {},
   "outputs": [],
   "source": []
  },
  {
   "cell_type": "code",
   "execution_count": null,
   "metadata": {},
   "outputs": [],
   "source": []
  }
 ],
 "metadata": {
  "kernelspec": {
   "display_name": "Python 3",
   "language": "python",
   "name": "python3"
  },
  "language_info": {
   "codemirror_mode": {
    "name": "ipython",
    "version": 3
   },
   "file_extension": ".py",
   "mimetype": "text/x-python",
   "name": "python",
   "nbconvert_exporter": "python",
   "pygments_lexer": "ipython3",
   "version": "3.7.3"
  }
 },
 "nbformat": 4,
 "nbformat_minor": 4
}
